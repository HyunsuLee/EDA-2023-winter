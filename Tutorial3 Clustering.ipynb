{
 "cells": [
  {
   "cell_type": "markdown",
   "metadata": {},
   "source": [
    "## Implement Kmeans algorithm\n",
    "* This is based on [this](https://domino.ai/blog/getting-started-with-k-means-clustering-in-python)"
   ]
  },
  {
   "cell_type": "code",
   "execution_count": 1,
   "metadata": {},
   "outputs": [],
   "source": [
    "# load libaries\n",
    "import pandas as pd\n",
    "import numpy as np\n",
    "import matplotlib.pyplot as plt\n",
    "from matplotlib.colors import ListedColormap\n",
    "%matplotlib inline"
   ]
  },
  {
   "cell_type": "code",
   "execution_count": 2,
   "metadata": {},
   "outputs": [],
   "source": [
    "# download data\n",
    "#!wget -O ./data/kmeans_blob.csv https://figshare.com/ndownloader/files/33950939\n",
    "# make sure the data is downloaded\n",
    "# after running this cell, you should see a file named kmeans_blob.csv in the data folder\n",
    "# if you see an error, try to download the file from the link above and save it in the data folder\n",
    "# after confirming that the file is in the data folder, you can comment out the line above"
   ]
  },
  {
   "cell_type": "code",
   "execution_count": 9,
   "metadata": {},
   "outputs": [
    {
     "data": {
      "text/html": [
       "<div>\n",
       "<style scoped>\n",
       "    .dataframe tbody tr th:only-of-type {\n",
       "        vertical-align: middle;\n",
       "    }\n",
       "\n",
       "    .dataframe tbody tr th {\n",
       "        vertical-align: top;\n",
       "    }\n",
       "\n",
       "    .dataframe thead th {\n",
       "        text-align: right;\n",
       "    }\n",
       "</style>\n",
       "<table border=\"1\" class=\"dataframe\">\n",
       "  <thead>\n",
       "    <tr style=\"text-align: right;\">\n",
       "      <th></th>\n",
       "      <th>ID</th>\n",
       "      <th>x</th>\n",
       "      <th>y</th>\n",
       "      <th>cluster</th>\n",
       "    </tr>\n",
       "  </thead>\n",
       "  <tbody>\n",
       "    <tr>\n",
       "      <th>count</th>\n",
       "      <td>60.000000</td>\n",
       "      <td>60.000000</td>\n",
       "      <td>60.000000</td>\n",
       "      <td>60.000000</td>\n",
       "    </tr>\n",
       "    <tr>\n",
       "      <th>mean</th>\n",
       "      <td>29.500000</td>\n",
       "      <td>23.568933</td>\n",
       "      <td>23.684633</td>\n",
       "      <td>1.133333</td>\n",
       "    </tr>\n",
       "    <tr>\n",
       "      <th>std</th>\n",
       "      <td>17.464249</td>\n",
       "      <td>11.203285</td>\n",
       "      <td>13.564296</td>\n",
       "      <td>0.791194</td>\n",
       "    </tr>\n",
       "    <tr>\n",
       "      <th>min</th>\n",
       "      <td>0.000000</td>\n",
       "      <td>-0.684000</td>\n",
       "      <td>3.412000</td>\n",
       "      <td>0.000000</td>\n",
       "    </tr>\n",
       "    <tr>\n",
       "      <th>25%</th>\n",
       "      <td>14.750000</td>\n",
       "      <td>19.903750</td>\n",
       "      <td>12.919500</td>\n",
       "      <td>0.750000</td>\n",
       "    </tr>\n",
       "    <tr>\n",
       "      <th>50%</th>\n",
       "      <td>29.500000</td>\n",
       "      <td>26.202000</td>\n",
       "      <td>19.457500</td>\n",
       "      <td>1.000000</td>\n",
       "    </tr>\n",
       "    <tr>\n",
       "      <th>75%</th>\n",
       "      <td>44.250000</td>\n",
       "      <td>32.269750</td>\n",
       "      <td>36.312000</td>\n",
       "      <td>2.000000</td>\n",
       "    </tr>\n",
       "    <tr>\n",
       "      <th>max</th>\n",
       "      <td>59.000000</td>\n",
       "      <td>39.634000</td>\n",
       "      <td>47.693000</td>\n",
       "      <td>2.000000</td>\n",
       "    </tr>\n",
       "  </tbody>\n",
       "</table>\n",
       "</div>"
      ],
      "text/plain": [
       "              ID          x          y    cluster\n",
       "count  60.000000  60.000000  60.000000  60.000000\n",
       "mean   29.500000  23.568933  23.684633   1.133333\n",
       "std    17.464249  11.203285  13.564296   0.791194\n",
       "min     0.000000  -0.684000   3.412000   0.000000\n",
       "25%    14.750000  19.903750  12.919500   0.750000\n",
       "50%    29.500000  26.202000  19.457500   1.000000\n",
       "75%    44.250000  32.269750  36.312000   2.000000\n",
       "max    59.000000  39.634000  47.693000   2.000000"
      ]
     },
     "execution_count": 9,
     "metadata": {},
     "output_type": "execute_result"
    }
   ],
   "source": [
    "# load data\n",
    "blobs = pd.read_csv(\"./data/kmeans_blob.csv\")\n",
    "colnames = list(blobs.columns[1:-1])\n",
    "# blobs.head()\n",
    "blobs.describe()"
   ]
  },
  {
   "cell_type": "code",
   "execution_count": 8,
   "metadata": {},
   "outputs": [
    {
     "data": {
      "image/png": "[encoded data removed]",
      "text/plain": [
       "<Figure size 640x480 with 1 Axes>"
      ]
     },
     "metadata": {},
     "output_type": "display_data"
    }
   ],
   "source": [
    "# Let's plot the data\n",
    "# customcmap = ListedColormap([\"crimson\", \"mediumblue\", \"darkmagenta\"])\n",
    "\n",
    "\n",
    "plt.scatter(\n",
    "    x=blobs[\"x\"],\n",
    "    y=blobs[\"y\"],\n",
    "    # s=150,\n",
    "    # c=blobs[\"cluster\"].astype(\"category\"),\n",
    "    # cmap=customcmap,\n",
    ")\n",
    "plt.xlabel(\"x\", fontsize=14)\n",
    "plt.ylabel(\"y\", fontsize=14)\n",
    "plt.xticks(fontsize=12)\n",
    "plt.yticks(fontsize=12)\n",
    "plt.show()"
   ]
  },
  {
   "cell_type": "markdown",
   "metadata": {},
   "source": [
    "### Kmeans algorithm\n",
    "#### Step 1 and 2: Initialize centroids and assign clusters"
   ]
  },
  {
   "cell_type": "code",
   "execution_count": 10,
   "metadata": {},
   "outputs": [
    {
     "data": {
      "text/html": [
       "<div>\n",
       "<style scoped>\n",
       "    .dataframe tbody tr th:only-of-type {\n",
       "        vertical-align: middle;\n",
       "    }\n",
       "\n",
       "    .dataframe tbody tr th {\n",
       "        vertical-align: top;\n",
       "    }\n",
       "\n",
       "    .dataframe thead th {\n",
       "        text-align: right;\n",
       "    }\n",
       "</style>\n",
       "<table border=\"1\" class=\"dataframe\">\n",
       "  <thead>\n",
       "    <tr style=\"text-align: right;\">\n",
       "      <th></th>\n",
       "      <th>x</th>\n",
       "      <th>y</th>\n",
       "    </tr>\n",
       "  </thead>\n",
       "  <tbody>\n",
       "    <tr>\n",
       "      <th>0</th>\n",
       "      <td>24.412</td>\n",
       "      <td>32.932</td>\n",
       "    </tr>\n",
       "    <tr>\n",
       "      <th>5</th>\n",
       "      <td>25.893</td>\n",
       "      <td>31.515</td>\n",
       "    </tr>\n",
       "    <tr>\n",
       "      <th>36</th>\n",
       "      <td>26.878</td>\n",
       "      <td>36.609</td>\n",
       "    </tr>\n",
       "  </tbody>\n",
       "</table>\n",
       "</div>"
      ],
      "text/plain": [
       "         x       y\n",
       "0   24.412  32.932\n",
       "5   25.893  31.515\n",
       "36  26.878  36.609"
      ]
     },
     "execution_count": 10,
     "metadata": {},
     "output_type": "execute_result"
    }
   ],
   "source": [
    "def initiate_centroids(k, dset):\n",
    "    \"\"\"\n",
    "    Select k data points as centroids\n",
    "    k: number of centroids\n",
    "    dset: pandas dataframe\n",
    "    \"\"\"\n",
    "    centroids = dset.sample(k)\n",
    "    return centroids\n",
    "\n",
    "\n",
    "np.random.seed(42)\n",
    "k = 3\n",
    "df = blobs[[\"x\", \"y\"]]\n",
    "centroids = initiate_centroids(k, df)\n",
    "centroids"
   ]
  },
  {
   "cell_type": "markdown",
   "metadata": {},
   "source": [
    "#### Step 3: Calculate distance\n",
    "* we use Euclidean distance"
   ]
  },
  {
   "cell_type": "code",
   "execution_count": 11,
   "metadata": {},
   "outputs": [],
   "source": [
    "def rsserr(a, b):\n",
    "    \"\"\"\n",
    "    Calculate the root of sum of squared errors.\n",
    "    a and b are numpy arrays\n",
    "    \"\"\"\n",
    "    return np.square(np.sum((a - b) ** 2))"
   ]
  },
  {
   "cell_type": "code",
   "execution_count": 14,
   "metadata": {},
   "outputs": [
    {
     "name": "stdout",
     "output_type": "stream",
     "text": [
      "Error for centoroid 0 is 8361.62\n",
      "Error for centoroid 1 is 12292.91\n",
      "Error for centoroid 2 is 814.08\n"
     ]
    }
   ],
   "source": [
    "for i, centroid in enumerate(range(centroids.shape[0])):\n",
    "    error = rsserr(centroids.iloc[centroid, :], df.iloc[10, :])\n",
    "    # calculate the error from 3rd centroid to all centroids\n",
    "    print(f\"Error for centoroid {i} is {error:.2f}\")"
   ]
  },
  {
   "cell_type": "markdown",
   "metadata": {},
   "source": [
    "#### Step 4: Assign data points to new clusters(centroids)\n",
    "* We assign data points to new clusters based on the distance from the centroids\n",
    "* Nearest centroid is assigned to the data point"
   ]
  },
  {
   "cell_type": "code",
   "execution_count": 15,
   "metadata": {},
   "outputs": [],
   "source": [
    "def centroid_assignation(dset, centroids):\n",
    "    \"\"\"\n",
    "    Given a dataframe `dset` and a set of `centroids`, we assign each\n",
    "    data point in `dset` to a centroid.\n",
    "    - dset - pandas dataframe with observations\n",
    "    - centroids - pa das dataframe with centroids\n",
    "    \"\"\"\n",
    "    k = centroids.shape[0]\n",
    "    n = dset.shape[0]\n",
    "    assignation = []\n",
    "    assign_errors = []\n",
    "\n",
    "    for obs in range(n):\n",
    "        # Estimate error\n",
    "        all_errors = np.array([])\n",
    "        for centroid in range(k):\n",
    "            err = rsserr(centroids.iloc[centroid, :], dset.iloc[obs, :])\n",
    "            all_errors = np.append(all_errors, err)\n",
    "\n",
    "        # Get the nearest centroid and the error\n",
    "        nearest_centroid = np.where(all_errors == np.amin(all_errors))[0].tolist()[0]\n",
    "        nearest_centroid_error = np.amin(all_errors)\n",
    "\n",
    "        # Add values to corresponding lists\n",
    "        assignation.append(nearest_centroid)\n",
    "        assign_errors.append(nearest_centroid_error)\n",
    "\n",
    "    return assignation, assign_errors"
   ]
  },
  {
   "cell_type": "code",
   "execution_count": 16,
   "metadata": {},
   "outputs": [
    {
     "name": "stderr",
     "output_type": "stream",
     "text": [
      "/tmp/ipykernel_135481/3782762560.py:2: SettingWithCopyWarning: \n",
      "A value is trying to be set on a copy of a slice from a DataFrame.\n",
      "Try using .loc[row_indexer,col_indexer] = value instead\n",
      "\n",
      "See the caveats in the documentation: https://pandas.pydata.org/pandas-docs/stable/user_guide/indexing.html#returning-a-view-versus-a-copy\n",
      "  df[\"centroid\"], df[\"error\"] = centroid_assignation(df, centroids)\n"
     ]
    },
    {
     "data": {
      "text/html": [
       "<div>\n",
       "<style scoped>\n",
       "    .dataframe tbody tr th:only-of-type {\n",
       "        vertical-align: middle;\n",
       "    }\n",
       "\n",
       "    .dataframe tbody tr th {\n",
       "        vertical-align: top;\n",
       "    }\n",
       "\n",
       "    .dataframe thead th {\n",
       "        text-align: right;\n",
       "    }\n",
       "</style>\n",
       "<table border=\"1\" class=\"dataframe\">\n",
       "  <thead>\n",
       "    <tr style=\"text-align: right;\">\n",
       "      <th></th>\n",
       "      <th>x</th>\n",
       "      <th>y</th>\n",
       "      <th>centroid</th>\n",
       "      <th>error</th>\n",
       "    </tr>\n",
       "  </thead>\n",
       "  <tbody>\n",
       "    <tr>\n",
       "      <th>0</th>\n",
       "      <td>24.412</td>\n",
       "      <td>32.932</td>\n",
       "      <td>0</td>\n",
       "      <td>0.000000</td>\n",
       "    </tr>\n",
       "    <tr>\n",
       "      <th>1</th>\n",
       "      <td>35.190</td>\n",
       "      <td>12.189</td>\n",
       "      <td>1</td>\n",
       "      <td>211534.211314</td>\n",
       "    </tr>\n",
       "    <tr>\n",
       "      <th>2</th>\n",
       "      <td>26.288</td>\n",
       "      <td>41.718</td>\n",
       "      <td>2</td>\n",
       "      <td>699.601495</td>\n",
       "    </tr>\n",
       "    <tr>\n",
       "      <th>3</th>\n",
       "      <td>0.376</td>\n",
       "      <td>15.506</td>\n",
       "      <td>0</td>\n",
       "      <td>776856.744109</td>\n",
       "    </tr>\n",
       "    <tr>\n",
       "      <th>4</th>\n",
       "      <td>26.116</td>\n",
       "      <td>3.963</td>\n",
       "      <td>1</td>\n",
       "      <td>576327.599678</td>\n",
       "    </tr>\n",
       "  </tbody>\n",
       "</table>\n",
       "</div>"
      ],
      "text/plain": [
       "        x       y  centroid          error\n",
       "0  24.412  32.932         0       0.000000\n",
       "1  35.190  12.189         1  211534.211314\n",
       "2  26.288  41.718         2     699.601495\n",
       "3   0.376  15.506         0  776856.744109\n",
       "4  26.116   3.963         1  576327.599678"
      ]
     },
     "execution_count": 16,
     "metadata": {},
     "output_type": "execute_result"
    }
   ],
   "source": [
    "# compute error and assign cetnroid, append the result to dataframe\n",
    "df[\"centroid\"], df[\"error\"] = centroid_assignation(df, centroids)\n",
    "df.head()"
   ]
  },
  {
   "cell_type": "code",
   "execution_count": 17,
   "metadata": {},
   "outputs": [
    {
     "data": {
      "text/plain": [
       "<matplotlib.collections.PathCollection at 0x7fea7da24590>"
      ]
     },
     "execution_count": 17,
     "metadata": {},
     "output_type": "execute_result"
    },
    {
     "data": {
      "image/png": "[encoded data removed]",
      "text/plain": [
       "<Figure size 640x480 with 1 Axes>"
      ]
     },
     "metadata": {},
     "output_type": "display_data"
    }
   ],
   "source": [
    "# plot the data\n",
    "plt.scatter(df[\"x\"], df[\"y\"], c=df[\"centroid\"], alpha=0.5)\n",
    "plt.scatter(\n",
    "    centroids[\"x\"],\n",
    "    centroids[\"y\"],\n",
    "    marker=\"s\",\n",
    "    s=150,\n",
    "    c=[0, 1, 2],\n",
    ")"
   ]
  },
  {
   "cell_type": "code",
   "execution_count": 18,
   "metadata": {},
   "outputs": [
    {
     "name": "stdout",
     "output_type": "stream",
     "text": [
      "The total error is 11927659.01\n"
     ]
    }
   ],
   "source": [
    "print(f\"The total error is {df['error'].sum():.2f}\")"
   ]
  },
  {
   "cell_type": "markdown",
   "metadata": {},
   "source": [
    "#### Step 5: update centroids location\n",
    "* We update the centroids location based on the mean of the data points assigned to the cluster"
   ]
  },
  {
   "cell_type": "code",
   "execution_count": 20,
   "metadata": {},
   "outputs": [
    {
     "data": {
      "text/html": [
       "<div>\n",
       "<style scoped>\n",
       "    .dataframe tbody tr th:only-of-type {\n",
       "        vertical-align: middle;\n",
       "    }\n",
       "\n",
       "    .dataframe tbody tr th {\n",
       "        vertical-align: top;\n",
       "    }\n",
       "\n",
       "    .dataframe thead th {\n",
       "        text-align: right;\n",
       "    }\n",
       "</style>\n",
       "<table border=\"1\" class=\"dataframe\">\n",
       "  <thead>\n",
       "    <tr style=\"text-align: right;\">\n",
       "      <th></th>\n",
       "      <th>x</th>\n",
       "      <th>y</th>\n",
       "      <th>error</th>\n",
       "    </tr>\n",
       "    <tr>\n",
       "      <th>centroid</th>\n",
       "      <th></th>\n",
       "      <th></th>\n",
       "      <th></th>\n",
       "    </tr>\n",
       "  </thead>\n",
       "  <tbody>\n",
       "    <tr>\n",
       "      <th>0</th>\n",
       "      <td>9.889444</td>\n",
       "      <td>23.242611</td>\n",
       "      <td>305680.658786</td>\n",
       "    </tr>\n",
       "    <tr>\n",
       "      <th>1</th>\n",
       "      <td>28.435750</td>\n",
       "      <td>11.546250</td>\n",
       "      <td>261544.254472</td>\n",
       "    </tr>\n",
       "    <tr>\n",
       "      <th>2</th>\n",
       "      <td>30.759333</td>\n",
       "      <td>40.311167</td>\n",
       "      <td>8241.391249</td>\n",
       "    </tr>\n",
       "  </tbody>\n",
       "</table>\n",
       "</div>"
      ],
      "text/plain": [
       "                  x          y          error\n",
       "centroid                                     \n",
       "0          9.889444  23.242611  305680.658786\n",
       "1         28.435750  11.546250  261544.254472\n",
       "2         30.759333  40.311167    8241.391249"
      ]
     },
     "execution_count": 20,
     "metadata": {},
     "output_type": "execute_result"
    }
   ],
   "source": [
    "df.groupby(\"centroid\").agg(\"mean\")"
   ]
  },
  {
   "cell_type": "code",
   "execution_count": 21,
   "metadata": {},
   "outputs": [
    {
     "data": {
      "text/html": [
       "<div>\n",
       "<style scoped>\n",
       "    .dataframe tbody tr th:only-of-type {\n",
       "        vertical-align: middle;\n",
       "    }\n",
       "\n",
       "    .dataframe tbody tr th {\n",
       "        vertical-align: top;\n",
       "    }\n",
       "\n",
       "    .dataframe thead th {\n",
       "        text-align: right;\n",
       "    }\n",
       "</style>\n",
       "<table border=\"1\" class=\"dataframe\">\n",
       "  <thead>\n",
       "    <tr style=\"text-align: right;\">\n",
       "      <th></th>\n",
       "      <th>x</th>\n",
       "      <th>y</th>\n",
       "    </tr>\n",
       "  </thead>\n",
       "  <tbody>\n",
       "    <tr>\n",
       "      <th>0</th>\n",
       "      <td>9.889444</td>\n",
       "      <td>23.242611</td>\n",
       "    </tr>\n",
       "    <tr>\n",
       "      <th>1</th>\n",
       "      <td>28.435750</td>\n",
       "      <td>11.546250</td>\n",
       "    </tr>\n",
       "    <tr>\n",
       "      <th>2</th>\n",
       "      <td>30.759333</td>\n",
       "      <td>40.311167</td>\n",
       "    </tr>\n",
       "  </tbody>\n",
       "</table>\n",
       "</div>"
      ],
      "text/plain": [
       "           x          y\n",
       "0   9.889444  23.242611\n",
       "1  28.435750  11.546250\n",
       "2  30.759333  40.311167"
      ]
     },
     "execution_count": 21,
     "metadata": {},
     "output_type": "execute_result"
    }
   ],
   "source": [
    "# since we need xy coordinates, not error\n",
    "centroids = df.groupby(\"centroid\").agg(\"mean\").reset_index()[[\"x\", \"y\"]]\n",
    "centroids"
   ]
  },
  {
   "cell_type": "code",
   "execution_count": 22,
   "metadata": {},
   "outputs": [
    {
     "data": {
      "text/plain": [
       "<matplotlib.collections.PathCollection at 0x7fea7b702b90>"
      ]
     },
     "execution_count": 22,
     "metadata": {},
     "output_type": "execute_result"
    },
    {
     "data": {
      "image/png": "[encoded data removed]",
      "text/plain": [
       "<Figure size 640x480 with 1 Axes>"
      ]
     },
     "metadata": {},
     "output_type": "display_data"
    }
   ],
   "source": [
    "# verify update centroid position\n",
    "plt.scatter(df[\"x\"], df[\"y\"], c=df[\"centroid\"], alpha=0.5)\n",
    "plt.scatter(\n",
    "    centroids[\"x\"],\n",
    "    centroids[\"y\"],\n",
    "    marker=\"s\",\n",
    "    s=150,\n",
    "    c=[0, 1, 2],\n",
    ")"
   ]
  },
  {
   "cell_type": "markdown",
   "metadata": {},
   "source": [
    "#### Step 6: Repeat step 3 to 5 until convergence"
   ]
  },
  {
   "cell_type": "code",
   "execution_count": 24,
   "metadata": {},
   "outputs": [],
   "source": [
    "def kmeans(dset, k=2, tol=1e-4):\n",
    "    \"\"\"\n",
    "    K-means implementationd for a\n",
    "    `dset`:  DataFrame with observations\n",
    "    `k`: number of clusters, default k=2\n",
    "    `tol`: tolerance=1E-4\n",
    "    \"\"\"\n",
    "    # Let us work in a copy, so we don't mess the original\n",
    "    working_dset = dset.copy()\n",
    "    # We define some variables to hold the error, the\n",
    "    # stopping signal and a counter for the iterations\n",
    "    err = []\n",
    "    goahead = True\n",
    "    j = 0\n",
    "\n",
    "    # Step 2: Initiate clusters by defining centroids\n",
    "    centroids = initiate_centroids(k, dset)\n",
    "\n",
    "    while goahead:\n",
    "        # Step 3 and 4 - Assign centroids and calculate error\n",
    "        working_dset[\"centroid\"], j_err = centroid_assignation(working_dset, centroids)\n",
    "        err.append(sum(j_err))\n",
    "\n",
    "        # Step 5 - Update centroid position\n",
    "        centroids = working_dset.groupby(\"centroid\").agg(\"mean\").reset_index(drop=True)\n",
    "\n",
    "        # Step 6 - Restart the iteration\n",
    "        if j > 0:\n",
    "            # Is the error less than a tolerance (1E-4)\n",
    "            if err[j - 1] - err[j] <= tol:\n",
    "                goahead = False\n",
    "        j += 1\n",
    "\n",
    "    working_dset[\"centroid\"], j_err = centroid_assignation(working_dset, centroids)\n",
    "    centroids = working_dset.groupby(\"centroid\").agg(\"mean\").reset_index(drop=True)\n",
    "    return working_dset[\"centroid\"], j_err, centroids"
   ]
  },
  {
   "cell_type": "code",
   "execution_count": 25,
   "metadata": {},
   "outputs": [
    {
     "data": {
      "text/html": [
       "<div>\n",
       "<style scoped>\n",
       "    .dataframe tbody tr th:only-of-type {\n",
       "        vertical-align: middle;\n",
       "    }\n",
       "\n",
       "    .dataframe tbody tr th {\n",
       "        vertical-align: top;\n",
       "    }\n",
       "\n",
       "    .dataframe thead th {\n",
       "        text-align: right;\n",
       "    }\n",
       "</style>\n",
       "<table border=\"1\" class=\"dataframe\">\n",
       "  <thead>\n",
       "    <tr style=\"text-align: right;\">\n",
       "      <th></th>\n",
       "      <th>x</th>\n",
       "      <th>y</th>\n",
       "      <th>centroid</th>\n",
       "      <th>error</th>\n",
       "    </tr>\n",
       "  </thead>\n",
       "  <tbody>\n",
       "    <tr>\n",
       "      <th>0</th>\n",
       "      <td>24.412</td>\n",
       "      <td>32.932</td>\n",
       "      <td>2</td>\n",
       "      <td>3767.568743</td>\n",
       "    </tr>\n",
       "    <tr>\n",
       "      <th>1</th>\n",
       "      <td>35.190</td>\n",
       "      <td>12.189</td>\n",
       "      <td>1</td>\n",
       "      <td>1399.889001</td>\n",
       "    </tr>\n",
       "    <tr>\n",
       "      <th>2</th>\n",
       "      <td>26.288</td>\n",
       "      <td>41.718</td>\n",
       "      <td>2</td>\n",
       "      <td>262.961097</td>\n",
       "    </tr>\n",
       "    <tr>\n",
       "      <th>3</th>\n",
       "      <td>0.376</td>\n",
       "      <td>15.506</td>\n",
       "      <td>0</td>\n",
       "      <td>2683.086425</td>\n",
       "    </tr>\n",
       "    <tr>\n",
       "      <th>4</th>\n",
       "      <td>26.116</td>\n",
       "      <td>3.963</td>\n",
       "      <td>1</td>\n",
       "      <td>2723.650198</td>\n",
       "    </tr>\n",
       "  </tbody>\n",
       "</table>\n",
       "</div>"
      ],
      "text/plain": [
       "        x       y  centroid        error\n",
       "0  24.412  32.932         2  3767.568743\n",
       "1  35.190  12.189         1  1399.889001\n",
       "2  26.288  41.718         2   262.961097\n",
       "3   0.376  15.506         0  2683.086425\n",
       "4  26.116   3.963         1  2723.650198"
      ]
     },
     "execution_count": 25,
     "metadata": {},
     "output_type": "execute_result"
    }
   ],
   "source": [
    "np.random.seed(42)\n",
    "df[\"centroid\"], df[\"error\"], centroids = kmeans(df[[\"x\", \"y\"]], 3)\n",
    "df.head()"
   ]
  },
  {
   "cell_type": "code",
   "execution_count": 26,
   "metadata": {},
   "outputs": [
    {
     "data": {
      "text/html": [
       "<div>\n",
       "<style scoped>\n",
       "    .dataframe tbody tr th:only-of-type {\n",
       "        vertical-align: middle;\n",
       "    }\n",
       "\n",
       "    .dataframe tbody tr th {\n",
       "        vertical-align: top;\n",
       "    }\n",
       "\n",
       "    .dataframe thead th {\n",
       "        text-align: right;\n",
       "    }\n",
       "</style>\n",
       "<table border=\"1\" class=\"dataframe\">\n",
       "  <thead>\n",
       "    <tr style=\"text-align: right;\">\n",
       "      <th></th>\n",
       "      <th>x</th>\n",
       "      <th>y</th>\n",
       "    </tr>\n",
       "  </thead>\n",
       "  <tbody>\n",
       "    <tr>\n",
       "      <th>0</th>\n",
       "      <td>6.322867</td>\n",
       "      <td>19.559800</td>\n",
       "    </tr>\n",
       "    <tr>\n",
       "      <th>1</th>\n",
       "      <td>29.330864</td>\n",
       "      <td>10.432409</td>\n",
       "    </tr>\n",
       "    <tr>\n",
       "      <th>2</th>\n",
       "      <td>29.304957</td>\n",
       "      <td>39.050783</td>\n",
       "    </tr>\n",
       "  </tbody>\n",
       "</table>\n",
       "</div>"
      ],
      "text/plain": [
       "           x          y\n",
       "0   6.322867  19.559800\n",
       "1  29.330864  10.432409\n",
       "2  29.304957  39.050783"
      ]
     },
     "execution_count": 26,
     "metadata": {},
     "output_type": "execute_result"
    }
   ],
   "source": [
    "centroids"
   ]
  },
  {
   "cell_type": "code",
   "execution_count": 27,
   "metadata": {},
   "outputs": [
    {
     "data": {
      "text/plain": [
       "<matplotlib.collections.PathCollection at 0x7fea7b56aa10>"
      ]
     },
     "execution_count": 27,
     "metadata": {},
     "output_type": "execute_result"
    },
    {
     "data": {
      "image/png": "[encoded data removed]",
      "text/plain": [
       "<Figure size 640x480 with 1 Axes>"
      ]
     },
     "metadata": {},
     "output_type": "display_data"
    }
   ],
   "source": [
    "plt.scatter(df[\"x\"], df[\"y\"], c=df[\"centroid\"], alpha=0.5)\n",
    "plt.scatter(\n",
    "    centroids[\"x\"],\n",
    "    centroids[\"y\"],\n",
    "    marker=\"s\",\n",
    "    s=150,\n",
    "    c=[0, 1, 2],\n",
    ")"
   ]
  },
  {
   "cell_type": "markdown",
   "metadata": {},
   "source": [
    "#### Visualize the error convergence according to the number of clusters\n"
   ]
  },
  {
   "cell_type": "code",
   "execution_count": 28,
   "metadata": {},
   "outputs": [
    {
     "data": {
      "image/png": "[encoded data removed]",
      "text/plain": [
       "<Figure size 800x600 with 1 Axes>"
      ]
     },
     "metadata": {},
     "output_type": "display_data"
    }
   ],
   "source": [
    "err_total = []\n",
    "n = 10\n",
    "\n",
    "df_elbow = blobs[[\"x\", \"y\"]]\n",
    "\n",
    "for i in range(n):\n",
    "    _, my_errs, _ = kmeans(df_elbow, i + 1)\n",
    "    err_total.append(sum(my_errs))\n",
    "fig, ax = plt.subplots(figsize=(8, 6))\n",
    "plt.plot(range(1, n + 1), err_total, linewidth=3, marker=\"o\")\n",
    "ax.set_xlabel(r\"Number of clusters\", fontsize=14)\n",
    "ax.set_ylabel(r\"Total error\", fontsize=14)\n",
    "plt.xticks(fontsize=12)\n",
    "plt.yticks(fontsize=12)\n",
    "plt.show()"
   ]
  },
  {
   "cell_type": "markdown",
   "metadata": {},
   "source": [
    "### Sklearn Kmeans\n",
    "* We can do this using sklearn Kmeans"
   ]
  },
  {
   "cell_type": "code",
   "execution_count": 29,
   "metadata": {},
   "outputs": [],
   "source": [
    "# load libraries\n",
    "from sklearn.cluster import KMeans"
   ]
  },
  {
   "cell_type": "code",
   "execution_count": 46,
   "metadata": {},
   "outputs": [],
   "source": [
    "sklearn_kmeans = KMeans(n_clusters=4, random_state=50)"
   ]
  },
  {
   "cell_type": "code",
   "execution_count": 47,
   "metadata": {},
   "outputs": [
    {
     "name": "stderr",
     "output_type": "stream",
     "text": [
      "/home/hyunsu4gpu/miniconda3/envs/EDA-tutorial/lib/python3.11/site-packages/sklearn/cluster/_kmeans.py:870: FutureWarning: The default value of `n_init` will change from 10 to 'auto' in 1.4. Set the value of `n_init` explicitly to suppress the warning\n",
      "  warnings.warn(\n"
     ]
    }
   ],
   "source": [
    "blobs_kmeans = sklearn_kmeans.fit(df[[\"x\", \"y\"]])"
   ]
  },
  {
   "cell_type": "code",
   "execution_count": 48,
   "metadata": {},
   "outputs": [
    {
     "data": {
      "text/plain": [
       "array([2, 1, 2, 3, 1, 2, 1, 1, 2, 2, 0, 0, 0, 1, 3, 3, 1, 1, 3, 0, 3, 1,\n",
       "       3, 2, 3, 1, 3, 2, 3, 0, 1, 1, 1, 2, 3, 1, 2, 0, 0, 3, 1, 0, 3, 3,\n",
       "       1, 0, 1, 1, 0, 1, 3, 1, 3, 0, 2, 1, 2, 0, 1, 1], dtype=int32)"
      ]
     },
     "execution_count": 48,
     "metadata": {},
     "output_type": "execute_result"
    }
   ],
   "source": [
    "blobs_kmeans.labels_"
   ]
  },
  {
   "cell_type": "code",
   "execution_count": 49,
   "metadata": {},
   "outputs": [
    {
     "data": {
      "text/plain": [
       "array([[33.16925   , 41.66325   ],\n",
       "       [29.33086364, 10.43240909],\n",
       "       [25.08936364, 36.20081818],\n",
       "       [ 6.32286667, 19.5598    ]])"
      ]
     },
     "execution_count": 49,
     "metadata": {},
     "output_type": "execute_result"
    }
   ],
   "source": [
    "blobs_kmeans.cluster_centers_"
   ]
  },
  {
   "cell_type": "code",
   "execution_count": 50,
   "metadata": {},
   "outputs": [
    {
     "data": {
      "text/plain": [
       "<matplotlib.collections.PathCollection at 0x7fea7405fb50>"
      ]
     },
     "execution_count": 50,
     "metadata": {},
     "output_type": "execute_result"
    },
    {
     "data": {
      "image/png": "[encoded data removed]",
      "text/plain": [
       "<Figure size 640x480 with 1 Axes>"
      ]
     },
     "metadata": {},
     "output_type": "display_data"
    }
   ],
   "source": [
    "plt.scatter(df[\"x\"], df[\"y\"], c=blobs_kmeans.labels_, alpha=0.5)\n",
    "plt.scatter(\n",
    "    blobs_kmeans.cluster_centers_[:, 0],\n",
    "    blobs_kmeans.cluster_centers_[:, 1],\n",
    "    marker=\"s\",\n",
    "    s=150,\n",
    "    c=[0, 1, 2, 3],\n",
    ")"
   ]
  },
  {
   "cell_type": "code",
   "execution_count": null,
   "metadata": {},
   "outputs": [],
   "source": []
  }
 ],
 "metadata": {
  "kernelspec": {
   "display_name": "EDA-tutorial",
   "language": "python",
   "name": "python3"
  },
  "language_info": {
   "codemirror_mode": {
    "name": "ipython",
    "version": 3
   },
   "file_extension": ".py",
   "mimetype": "text/x-python",
   "name": "python",
   "nbconvert_exporter": "python",
   "pygments_lexer": "ipython3",
   "version": "3.11.5"
  }
 },
 "nbformat": 4,
 "nbformat_minor": 2
}
